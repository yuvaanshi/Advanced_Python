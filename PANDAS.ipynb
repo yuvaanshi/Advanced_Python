{
 "cells": [
  {
   "cell_type": "code",
   "execution_count": 1,
   "metadata": {},
   "outputs": [],
   "source": [
    "# introduction to Data Frames:\n",
    "\n",
    "Dataframes : it is capable of handling the 2-dimensional data\n"
   ]
  },
  {
   "cell_type": "code",
   "execution_count": 2,
   "metadata": {},
   "outputs": [],
   "source": [
    "import numpy as np\n",
    "import pandas as pd"
   ]
  },
  {
   "cell_type": "code",
   "execution_count": null,
   "metadata": {},
   "outputs": [],
   "source": [
    "A Dataframe can be created by using the following:\n",
    "    List\n",
    "    Dict\n",
    "    series\n",
    "    numpy and the arrays\n",
    "    Another Dataframes"
   ]
  },
  {
   "cell_type": "code",
   "execution_count": null,
   "metadata": {},
   "outputs": [],
   "source": [
    "creating a empty Dataframe"
   ]
  },
  {
   "cell_type": "code",
   "execution_count": 3,
   "metadata": {},
   "outputs": [
    {
     "name": "stdout",
     "output_type": "stream",
     "text": [
      "Empty DataFrame\n",
      "Columns: []\n",
      "Index: []\n"
     ]
    }
   ],
   "source": [
    "df =pd.DataFrame()\n",
    "print(df)"
   ]
  },
  {
   "cell_type": "code",
   "execution_count": null,
   "metadata": {},
   "outputs": [],
   "source": [
    "creating a Dataframe from the list"
   ]
  },
  {
   "cell_type": "code",
   "execution_count": 4,
   "metadata": {},
   "outputs": [
    {
     "name": "stdout",
     "output_type": "stream",
     "text": [
      "   0\n",
      "0  1\n",
      "1  2\n",
      "2  3\n",
      "3  4\n",
      "4  5\n"
     ]
    }
   ],
   "source": [
    "data = [1,2,3,4,5]\n",
    "\n",
    "df = pd.DataFrame(data)\n",
    "\n",
    "print(df)  # y it is giving Zero "
   ]
  },
  {
   "cell_type": "code",
   "execution_count": 8,
   "metadata": {},
   "outputs": [
    {
     "name": "stdout",
     "output_type": "stream",
     "text": [
      "  Bank_Customers  Bank_Balance in Dollor(000)\n",
      "0       chandana                           10\n",
      "1        chrissy                            9\n",
      "2      yuvaanshi                            8\n",
      "3       scarlett                            0\n"
     ]
    }
   ],
   "source": [
    "data =[['chandana',10],['chrissy',9],['yuvaanshi',8],['scarlett',0]]\n",
    "\n",
    "df = pd.DataFrame(data, columns=['Bank_Customers','Bank_Balance in Dollor(000)'])\n",
    "\n",
    "print(df)"
   ]
  },
  {
   "cell_type": "code",
   "execution_count": 10,
   "metadata": {},
   "outputs": [
    {
     "name": "stdout",
     "output_type": "stream",
     "text": [
      "        Name  Marks\n",
      "0   chandana   10.0\n",
      "1    chrissy    9.0\n",
      "2  yuvaanshi    8.0\n",
      "3   scarlett    0.0\n"
     ]
    }
   ],
   "source": [
    "data =[['chandana',10],['chrissy',9],['yuvaanshi',8],['scarlett',0]]\n",
    "\n",
    "df = pd.DataFrame(data, columns=['Name','Marks'],dtype=float)\n",
    "\n",
    "print(df)"
   ]
  },
  {
   "cell_type": "code",
   "execution_count": 11,
   "metadata": {},
   "outputs": [
    {
     "name": "stdout",
     "output_type": "stream",
     "text": [
      "            Name  Marks\n",
      "rank1   chandana   10.0\n",
      "rank2    chrissy    9.0\n",
      "rank3  yuvaanshi    8.0\n",
      "rank4   scarlett    0.0\n"
     ]
    }
   ],
   "source": [
    "data =[['chandana',10],['chrissy',9],['yuvaanshi',8],['scarlett',0]]\n",
    "\n",
    "df = pd.DataFrame(data,index=['rank1','rank2','rank3','rank4'], columns=['Name','Marks'],dtype=float)\n",
    "\n",
    "print(df)"
   ]
  },
  {
   "cell_type": "code",
   "execution_count": null,
   "metadata": {},
   "outputs": [],
   "source": [
    "Creating a DataFrame using Dictionary"
   ]
  },
  {
   "cell_type": "code",
   "execution_count": 13,
   "metadata": {},
   "outputs": [
    {
     "name": "stdout",
     "output_type": "stream",
     "text": [
      "        name age\n",
      "0   chandana  10\n",
      "1  yuvaanshi  20\n",
      "2   scarlett  30\n",
      "3      vincy  40\n"
     ]
    }
   ],
   "source": [
    "data = {'name':['chandana','yuvaanshi','scarlett','vincy'],'age':['10','20','30','40']}\n",
    "\n",
    "df = pd.DataFrame(data)\n",
    "\n",
    "print(df)"
   ]
  },
  {
   "cell_type": "code",
   "execution_count": null,
   "metadata": {},
   "outputs": [],
   "source": []
  }
 ],
 "metadata": {
  "kernelspec": {
   "display_name": "Python 3",
   "language": "python",
   "name": "python3"
  },
  "language_info": {
   "codemirror_mode": {
    "name": "ipython",
    "version": 3
   },
   "file_extension": ".py",
   "mimetype": "text/x-python",
   "name": "python",
   "nbconvert_exporter": "python",
   "pygments_lexer": "ipython3",
   "version": "3.7.4"
  }
 },
 "nbformat": 4,
 "nbformat_minor": 2
}
